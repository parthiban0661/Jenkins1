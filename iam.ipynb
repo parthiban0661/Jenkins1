{
 "cells": [
  {
   "cell_type": "code",
   "execution_count": 1,
   "id": "eb6485b0-5f3f-4f04-ba34-960e6f84fb45",
   "metadata": {},
   "outputs": [],
   "source": [
    "# Create IAM user"
   ]
  },
  {
   "cell_type": "code",
   "execution_count": 2,
   "id": "a34052b0-5867-4c2f-9b85-718ad7519958",
   "metadata": {
    "tags": []
   },
   "outputs": [
    {
     "data": {
      "text/plain": [
       "{'User': {'Path': '/',\n",
       "  'UserName': 'python',\n",
       "  'UserId': 'AIDATCKAOGXBC6VIO6SFD',\n",
       "  'Arn': 'arn:aws:iam::211125417410:user/python',\n",
       "  'CreateDate': datetime.datetime(2024, 7, 23, 8, 21, 38, tzinfo=tzlocal())},\n",
       " 'ResponseMetadata': {'RequestId': 'f6d8653a-c943-4325-99f1-f00905d8408f',\n",
       "  'HTTPStatusCode': 200,\n",
       "  'HTTPHeaders': {'date': 'Tue, 23 Jul 2024 08:21:38 GMT',\n",
       "   'x-amzn-requestid': 'f6d8653a-c943-4325-99f1-f00905d8408f',\n",
       "   'content-type': 'text/xml',\n",
       "   'content-length': '473'},\n",
       "  'RetryAttempts': 0}}"
      ]
     },
     "execution_count": 2,
     "metadata": {},
     "output_type": "execute_result"
    }
   ],
   "source": [
    "import boto3\n",
    "iam = boto3.client('iam')\n",
    "\n",
    "iam = boto3.client(\"iam\", region_name='ap-south-1')\n",
    "iam.create_user(UserName='python')"
   ]
  },
  {
   "cell_type": "code",
   "execution_count": null,
   "id": "1859578a-ef8a-4683-8a4a-582ec8bc7642",
   "metadata": {},
   "outputs": [],
   "source": []
  }
 ],
 "metadata": {
  "kernelspec": {
   "display_name": "conda_python3",
   "language": "python",
   "name": "conda_python3"
  },
  "language_info": {
   "codemirror_mode": {
    "name": "ipython",
    "version": 3
   },
   "file_extension": ".py",
   "mimetype": "text/x-python",
   "name": "python",
   "nbconvert_exporter": "python",
   "pygments_lexer": "ipython3",
   "version": "3.10.14"
  }
 },
 "nbformat": 4,
 "nbformat_minor": 5
}
