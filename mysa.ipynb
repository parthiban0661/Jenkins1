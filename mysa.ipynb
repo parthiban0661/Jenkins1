{
 "cells": [
  {
   "cell_type": "markdown",
   "metadata": {},
   "source": [
    "\n",
    "# IAM user\n",
    "## Create IAM User\n",
    "```\n",
    "import boto3\n",
    "iam = boto3.client('iam')\n",
    "\n",
    "iam = boto3.client(\"iam\", region_name='ap-south-1')\n",
    "iam.create_user( UserName='python')\n",
    "```"
   ]
  }
 ],
 "metadata": {
  "kernelspec": {
   "display_name": "Python 3",
   "language": "python",
   "name": "python3"
  },
  "language_info": {
   "name": "python",
   "version": "3.12.3"
  }
 },
 "nbformat": 4,
 "nbformat_minor": 2
}
