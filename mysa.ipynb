{
 "cells": [
  {
   "cell_type": "code",
   "execution_count": null,
   "metadata": {},
   "outputs": [],
   "source": [
    "# IAM user"
   ]
  },
  {
   "cell_type": "markdown",
   "metadata": {},
   "source": [
    "## Create IAM User\n",
    "```\n",
    "import boto3\n",
    "iam = boto3.client('iam')\n",
    "\n",
    "iam = boto3.client(\"iam\", region_name='ap-south-1')\n",
    "iam.create_user( UserName='python')\n",
    "```"
   ]
  },
  {
   "cell_type": "markdown",
   "metadata": {},
   "source": []
  },
  {
   "cell_type": "markdown",
   "metadata": {},
   "source": [
    "## Attach IAM Policy\n",
    "Once the user creation is done attach the policy\n",
    "```\n",
    "iam.attach_user_policy(\n",
    " UserName = 'python', \n",
    " PolicyArn='arn:aws:iam::aws:policy/AmazonEC2FullAccess'\n",
    ")\n",
    "```"
   ]
  },
  {
   "cell_type": "markdown",
   "metadata": {},
   "source": []
  }
 ],
 "metadata": {
  "kernelspec": {
   "display_name": "Python 3",
   "language": "python",
   "name": "python3"
  },
  "language_info": {
   "name": "python",
   "version": "3.12.3"
  }
 },
 "nbformat": 4,
 "nbformat_minor": 2
}
